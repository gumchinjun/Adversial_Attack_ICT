{
 "cells": [
  {
   "cell_type": "code",
   "execution_count": null,
   "metadata": {
    "colab": {
     "base_uri": "https://localhost:8080/"
    },
    "executionInfo": {
     "elapsed": 16699,
     "status": "ok",
     "timestamp": 1725545505153,
     "user": {
      "displayName": "전준석",
      "userId": "05563865339869557032"
     },
     "user_tz": -540
    },
    "id": "6xt644MCS9sj",
    "outputId": "e4e4a75a-004e-4ab4-b119-e048985a37e3"
   },
   "outputs": [
    {
     "name": "stdout",
     "output_type": "stream",
     "text": [
      "Mounted at /content/drive\n"
     ]
    }
   ],
   "source": [
    "from google.colab import drive\n",
    "drive.mount('/content/drive')"
   ]
  },
  {
   "cell_type": "code",
   "execution_count": null,
   "metadata": {
    "id": "a3oGbs2kS-e2"
   },
   "outputs": [],
   "source": [
    "import numpy as np\n",
    "import pandas as pd\n",
    "import matplotlib.pyplot as plt\n",
    "import seaborn as sns\n",
    "import tensorflow as tf\n",
    "from keras.layers import Dense, Conv2D, Flatten\n",
    "from tensorflow.keras import datasets, layers, models\n",
    "from tensorflow.math import confusion_matrix\n",
    "from sklearn.model_selection import train_test_split\n",
    "from tensorflow.keras.callbacks import ModelCheckpoint\n",
    "import os\n",
    "import cv2\n",
    "import warnings\n",
    "warnings.filterwarnings('ignore')"
   ]
  },
  {
   "cell_type": "code",
   "execution_count": null,
   "metadata": {
    "id": "Eb9TkyNXS-Xm"
   },
   "outputs": [],
   "source": [
    "train = pd.read_csv(\"/content/drive/MyDrive/스마트해상물류_공유/ships-dataset/game/train/train.csv\")"
   ]
  },
  {
   "cell_type": "code",
   "execution_count": null,
   "metadata": {
    "colab": {
     "base_uri": "https://localhost:8080/",
     "height": 467
    },
    "executionInfo": {
     "elapsed": 3,
     "status": "ok",
     "timestamp": 1725533469281,
     "user": {
      "displayName": "전준석",
      "userId": "05563865339869557032"
     },
     "user_tz": -540
    },
    "id": "hbcmgTVUS-QF",
    "outputId": "18717567-4bdd-40d4-c07a-d7ad91b977e0"
   },
   "outputs": [
    {
     "data": {
      "text/plain": [
       "<Axes: xlabel='category', ylabel='count'>"
      ]
     },
     "execution_count": 5,
     "metadata": {},
     "output_type": "execute_result"
    },
    {
     "data": {
      "image/png": "[encoded data removed]",
      "text/plain": [
       "<Figure size 640x480 with 1 Axes>"
      ]
     },
     "metadata": {},
     "output_type": "display_data"
    }
   ],
   "source": [
    "ship_categories = {1: 'Cargo', 2: 'Military', 3: 'Carrier', 4: 'Cruise', 5: 'Tanker'}\n",
    "sns.countplot(x=train[\"category\"].map(ship_categories))"
   ]
  },
  {
   "cell_type": "code",
   "execution_count": null,
   "metadata": {
    "id": "fixZw80NTXcW"
   },
   "outputs": [],
   "source": [
    "path = \"/content/drive/MyDrive/스마트해상물류_공유/ships-dataset/game/train/images\"\n",
    "target_shape = (128, 128, 3)\n",
    "\n",
    "def load_and_preprocess_image(image_path, target_shape):\n",
    "    img = plt.imread(image_path)\n",
    "    img = cv2.resize(img, (target_shape[1], target_shape[0]))  # Resize the image\n",
    "    return img"
   ]
  },
  {
   "cell_type": "code",
   "execution_count": null,
   "metadata": {
    "id": "mAyCTZ1NFd1U"
   },
   "outputs": [],
   "source": [
    "# 바로 아래 셀 실행 필요 없음. resized_image_list 불러오면 됨."
   ]
  },
  {
   "cell_type": "code",
   "execution_count": null,
   "metadata": {
    "colab": {
     "base_uri": "https://localhost:8080/"
    },
    "executionInfo": {
     "elapsed": 639582,
     "status": "ok",
     "timestamp": 1724403090235,
     "user": {
      "displayName": "전준석",
      "userId": "05563865339869557032"
     },
     "user_tz": -540
    },
    "id": "3GyyjVABTXXG",
    "outputId": "40d6b26e-63f3-4127-b392-69ea4d0f302f"
   },
   "outputs": [
    {
     "name": "stderr",
     "output_type": "stream",
     "text": [
      "100%|██████████| 6252/6252 [10:37<00:00,  9.80it/s]\n"
     ]
    }
   ],
   "source": [
    "from tqdm import tqdm\n",
    "\n",
    "refactor_size = 128\n",
    "resized_image_list = []\n",
    "all_paths = []\n",
    "\n",
    "for i in tqdm(range(len(train))):\n",
    "    image_path = os.path.join(path, train[\"image\"][i])\n",
    "    img = tf.keras.utils.load_img(image_path, target_size=(refactor_size, refactor_size))\n",
    "    img_vals = tf.image.convert_image_dtype(img, tf.float32)\n",
    "    imgarr = tf.keras.utils.img_to_array(img_vals)\n",
    "    resized_image_list.append(imgarr)\n",
    "    all_paths.append(image_path)\n",
    "\n",
    "resized_image_list = np.asarray(resized_image_list)"
   ]
  },
  {
   "cell_type": "code",
   "execution_count": null,
   "metadata": {
    "id": "4zvyumbcWgIO"
   },
   "outputs": [],
   "source": [
    "import numpy as np\n",
    "\n",
    "# NumPy 파일로 저장\n",
    "# np.save('/content/drive/MyDrive/스마트해상물류_공유/ships-dataset/game/resized_image_list.npy', resized_image_list)\n",
    "\n",
    "# 나중에 불러오기\n",
    "resized_image_list = np.load('/content/drive/MyDrive/스마트해상물류_공유/ships-dataset/game/resized_image_list.npy')"
   ]
  },
  {
   "cell_type": "markdown",
   "metadata": {
    "id": "jo4PgL8hTfoL"
   },
   "source": [
    "## Plotting first 20 Images"
   ]
  },
  {
   "cell_type": "code",
   "execution_count": null,
   "metadata": {
    "id": "7j7zBqM2TXFX"
   },
   "outputs": [],
   "source": [
    "data_augmentation = tf.keras.Sequential([\n",
    "    tf.keras.layers.RandomFlip('horizontal'),\n",
    "    tf.keras.layers.RandomRotation(0.2),\n",
    "])\n",
    "augmented_images = data_augmentation(resized_image_list)"
   ]
  },
  {
   "cell_type": "code",
   "execution_count": null,
   "metadata": {
    "colab": {
     "base_uri": "https://localhost:8080/",
     "height": 272
    },
    "executionInfo": {
     "elapsed": 3,
     "status": "ok",
     "timestamp": 1725545560256,
     "user": {
      "displayName": "전준석",
      "userId": "05563865339869557032"
     },
     "user_tz": -540
    },
    "id": "Ww0aupLxTlMu",
    "outputId": "8b4143d1-0d2f-4cf6-bc1f-620a1e86876f"
   },
   "outputs": [
    {
     "data": {
      "text/html": [
       "<div>\n",
       "<style scoped>\n",
       "    .dataframe tbody tr th:only-of-type {\n",
       "        vertical-align: middle;\n",
       "    }\n",
       "\n",
       "    .dataframe tbody tr th {\n",
       "        vertical-align: top;\n",
       "    }\n",
       "\n",
       "    .dataframe thead th {\n",
       "        text-align: right;\n",
       "    }\n",
       "</style>\n",
       "<table border=\"1\" class=\"dataframe\">\n",
       "  <thead>\n",
       "    <tr style=\"text-align: right;\">\n",
       "      <th></th>\n",
       "      <th>count</th>\n",
       "    </tr>\n",
       "    <tr>\n",
       "      <th>category</th>\n",
       "      <th></th>\n",
       "    </tr>\n",
       "  </thead>\n",
       "  <tbody>\n",
       "    <tr>\n",
       "      <th>0</th>\n",
       "      <td>2120</td>\n",
       "    </tr>\n",
       "    <tr>\n",
       "      <th>4</th>\n",
       "      <td>1217</td>\n",
       "    </tr>\n",
       "    <tr>\n",
       "      <th>1</th>\n",
       "      <td>1167</td>\n",
       "    </tr>\n",
       "    <tr>\n",
       "      <th>2</th>\n",
       "      <td>916</td>\n",
       "    </tr>\n",
       "    <tr>\n",
       "      <th>3</th>\n",
       "      <td>832</td>\n",
       "    </tr>\n",
       "  </tbody>\n",
       "</table>\n",
       "</div><br><label><b>dtype:</b> int64</label>"
      ],
      "text/plain": [
       "category\n",
       "0    2120\n",
       "4    1217\n",
       "1    1167\n",
       "2     916\n",
       "3     832\n",
       "Name: count, dtype: int64"
      ]
     },
     "execution_count": 6,
     "metadata": {},
     "output_type": "execute_result"
    }
   ],
   "source": [
    "class_values = train[\"category\"] - 1\n",
    "class_values.value_counts()"
   ]
  },
  {
   "cell_type": "code",
   "execution_count": null,
   "metadata": {
    "id": "7rlR185LTljW"
   },
   "outputs": [],
   "source": [
    "ship_categories = {0: 'Cargo', 1: 'Military', 2: 'Carrier', 3: 'Cruise', 4: 'Tanker'}"
   ]
  },
  {
   "cell_type": "code",
   "execution_count": null,
   "metadata": {
    "colab": {
     "base_uri": "https://localhost:8080/"
    },
    "executionInfo": {
     "elapsed": 492,
     "status": "ok",
     "timestamp": 1725545560746,
     "user": {
      "displayName": "전준석",
      "userId": "05563865339869557032"
     },
     "user_tz": -540
    },
    "id": "MGDl0oPLTnAY",
    "outputId": "a71a2c36-533f-4bc6-d8e7-304f10eda5c0"
   },
   "outputs": [
    {
     "name": "stdout",
     "output_type": "stream",
     "text": [
      "(4689, 128, 128, 3) (4689,)\n"
     ]
    }
   ],
   "source": [
    "X_train, X_test, y_train, y_test = train_test_split(resized_image_list, class_values,random_state=30)\n",
    "print(X_train.shape, y_train.shape)"
   ]
  },
  {
   "cell_type": "code",
   "execution_count": null,
   "metadata": {
    "id": "coA5W4zlTqzK"
   },
   "outputs": [],
   "source": [
    "import tensorflow as tf\n",
    "from tensorflow.keras import layers, models\n",
    "\n",
    "def create_cnn_model():\n",
    "    data_augmentation = tf.keras.Sequential([\n",
    "        layers.RandomFlip(\"horizontal\"),\n",
    "        layers.RandomRotation(0.1),\n",
    "        layers.RandomZoom(0.1),\n",
    "    ])\n",
    "\n",
    "    model = models.Sequential([\n",
    "        tf.keras.Input(shape=(128, 128, 3)),\n",
    "        data_augmentation,\n",
    "\n",
    "        layers.Conv2D(32, (3, 3), activation='relu', padding='same'),\n",
    "        layers.BatchNormalization(),\n",
    "        layers.Conv2D(32, (3, 3), activation='relu', padding='same'),\n",
    "        layers.BatchNormalization(),\n",
    "        layers.MaxPooling2D((2, 2)),\n",
    "        layers.Dropout(0.25),\n",
    "\n",
    "        layers.Conv2D(64, (3, 3), activation='relu', padding='same'),\n",
    "        layers.BatchNormalization(),\n",
    "        layers.Conv2D(64, (3, 3), activation='relu', padding='same'),\n",
    "        layers.BatchNormalization(),\n",
    "        layers.MaxPooling2D((2, 2)),\n",
    "        layers.Dropout(0.25),\n",
    "\n",
    "        layers.Conv2D(128, (3, 3), activation='relu', padding='same'),\n",
    "        layers.BatchNormalization(),\n",
    "        layers.Conv2D(128, (3, 3), activation='relu', padding='same'),\n",
    "        layers.BatchNormalization(),\n",
    "        layers.MaxPooling2D((2, 2)),\n",
    "        layers.Dropout(0.25),\n",
    "\n",
    "     \n",
    "        layers.Flatten(),\n",
    "        layers.Dense(256, activation='relu'),\n",
    "        layers.BatchNormalization(),\n",
    "        layers.Dropout(0.5),\n",
    "        layers.Dense(128, activation='relu'),\n",
    "        layers.BatchNormalization(),\n",
    "        layers.Dropout(0.5),\n",
    "\n",
    "    \n",
    "        layers.Dense(5, activation='softmax')\n",
    "    ])\n",
    "\n",
    "    return model\n",
    "\n",
    "\n",
    "model = create_cnn_model()\n",
    "model.compile(optimizer='adam',\n",
    "              loss='categorical_crossentropy',\n",
    "              metrics=['accuracy'])\n",
    "\n"
   ]
  },
  {
   "cell_type": "code",
   "execution_count": null,
   "metadata": {
    "id": "pU5DJsyTTr1-"
   },
   "outputs": [],
   "source": [
    "# ModelCheckpoint 설정\n",
    "checkpoint = ModelCheckpoint('best_model.keras', monitor='val_accuracy', save_best_only=True, mode='max', verbose=1)"
   ]
  },
  {
   "cell_type": "code",
   "execution_count": null,
   "metadata": {
    "id": "vcn0xRdgTrv2"
   },
   "outputs": [],
   "source": [
    "import tensorflow as tf\n",
    "from tensorflow import keras\n",
    "\n",
    "# best_model = keras.models.load_model('/content/drive/MyDrive/스마트해상물류_공유/ships-dataset/game/train/hj3_model.keras', compile=False)\n",
    "# # # best_model = keras.models.load_model('/content/drive/MyDrive/스마트해상물류_공유/ships-dataset/game/train/staged_adversarial_model.keras', compile=False)\n",
    "model.load_weights('/content/drive/MyDrive/스마트해상물류_공유/ships-dataset/game/train/hj_model.keras')\n",
    "model.compile(optimizer=\"adam\", loss='sparse_categorical_crossentropy', metrics=['accuracy'])"
   ]
  },
  {
   "cell_type": "code",
   "execution_count": null,
   "metadata": {
    "colab": {
     "base_uri": "https://localhost:8080/"
    },
    "executionInfo": {
     "elapsed": 4454,
     "status": "ok",
     "timestamp": 1725533520584,
     "user": {
      "displayName": "전준석",
      "userId": "05563865339869557032"
     },
     "user_tz": -540
    },
    "id": "SWZH61f_Tu0m",
    "outputId": "7f3b1700-876f-4866-b603-a27a71984c63"
   },
   "outputs": [
    {
     "name": "stdout",
     "output_type": "stream",
     "text": [
      "49/49 - 4s - 78ms/step - accuracy: 0.8426 - loss: 0.4822\n",
      "\n",
      "Best Test Accuracy: 0.8426103591918945\n"
     ]
    }
   ],
   "source": [
    "test_loss, best_test_acc = model.evaluate(X_test, y_test, verbose=2)\n",
    "print(\"\\nBest Test Accuracy:\", best_test_acc)"
   ]
  },
  {
   "cell_type": "code",
   "execution_count": null,
   "metadata": {
    "colab": {
     "base_uri": "https://localhost:8080/"
    },
    "executionInfo": {
     "elapsed": 128887,
     "status": "ok",
     "timestamp": 1725545697460,
     "user": {
      "displayName": "전준석",
      "userId": "05563865339869557032"
     },
     "user_tz": -540
    },
    "id": "0EHsY9Y9D6-J",
    "outputId": "6bf48461-98a8-4e66-f97a-5b6bea82eec7"
   },
   "outputs": [
    {
     "name": "stdout",
     "output_type": "stream",
     "text": [
      "49/49 - 3s - 52ms/step - accuracy: 0.1862 - loss: 6.2741\n",
      "Perturbed Test Loss: 6.2741\n",
      "Perturbed Test Accuracy: 0.1862\n"
     ]
    }
   ],
   "source": [
    "def fgsm_attack(image, epsilon, gradient):\n",
    "    sign_gradient = tf.sign(gradient)\n",
    "    perturbed_image = image + epsilon * sign_gradient\n",
    "    perturbed_image = tf.clip_by_value(perturbed_image, 0, 1)\n",
    "    return perturbed_image\n",
    "\n",
    "# 손실 함수 정의 - SparseCategoricalCrossentropy 사용 (if y_test is not one-hot encoded)\n",
    "loss_object = tf.keras.losses.SparseCategoricalCrossentropy()\n",
    "\n",
    "# FGSM 공격을 적용한 데이터셋 평가\n",
    "def evaluate_with_fgsm(model, X_test, y_test, epsilon=0.01):\n",
    "    perturbed_images = []\n",
    "\n",
    "    for i in range(len(X_test)):\n",
    "        image = tf.convert_to_tensor(X_test[i:i+1])\n",
    "        label = tf.convert_to_tensor(y_test[i:i+1])\n",
    "\n",
    "        with tf.GradientTape() as tape:\n",
    "            tape.watch(image)\n",
    "            prediction = model(image)\n",
    "            loss = loss_object(label, prediction)\n",
    "\n",
    "        gradient = tape.gradient(loss, image)\n",
    "        perturbed_image = fgsm_attack(image, epsilon, gradient)\n",
    "        perturbed_images.append(perturbed_image.numpy())\n",
    "\n",
    "    perturbed_images = np.vstack(perturbed_images)\n",
    "\n",
    "    # FGSM 공격을 받은 이미지로 모델 재평가\n",
    "    perturbed_loss, perturbed_acc = model.evaluate(perturbed_images, y_test, verbose=2)\n",
    "    print(f\"Perturbed Test Loss: {perturbed_loss:.4f}\")\n",
    "    print(f\"Perturbed Test Accuracy: {perturbed_acc:.4f}\")\n",
    "\n",
    "    return perturbed_images\n",
    "\n",
    "# FGSM 공격 후 손상된 이미지 생성\n",
    "perturbed_images = evaluate_with_fgsm(model, X_test, y_test, epsilon=0.1)"
   ]
  },
  {
   "cell_type": "code",
   "execution_count": null,
   "metadata": {
    "colab": {
     "base_uri": "https://localhost:8080/"
    },
    "executionInfo": {
     "elapsed": 697816,
     "status": "ok",
     "timestamp": 1725538151484,
     "user": {
      "displayName": "전준석",
      "userId": "05563865339869557032"
     },
     "user_tz": -540
    },
    "id": "tZw9Eo5lD6kT",
    "outputId": "f3e4eadb-b1c2-4685-ee7f-4834c21de6b3"
   },
   "outputs": [
    {
     "name": "stdout",
     "output_type": "stream",
     "text": [
      "Training data shape: (4689, 128, 128, 3), Labels shape: (4689,)\n",
      "Epoch 1/10\n",
      "Loss: 1.259907841682434, Adversarial Loss: 1.3169010877609253\n",
      "Epoch 2/10\n",
      "Loss: 1.182040810585022, Adversarial Loss: 1.1552435159683228\n",
      "Epoch 3/10\n",
      "Loss: 1.2259204387664795, Adversarial Loss: 0.8993434906005859\n",
      "Epoch 4/10\n",
      "Loss: 0.7013557553291321, Adversarial Loss: 0.893486499786377\n",
      "Epoch 5/10\n",
      "Loss: 0.7296855449676514, Adversarial Loss: 0.7733339667320251\n",
      "Epoch 6/10\n",
      "Loss: 0.651315450668335, Adversarial Loss: 0.432669073343277\n",
      "Epoch 7/10\n",
      "Loss: 0.6079698204994202, Adversarial Loss: 0.26447001099586487\n",
      "Epoch 8/10\n",
      "Loss: 0.5085634589195251, Adversarial Loss: 0.324272096157074\n",
      "Epoch 9/10\n",
      "Loss: 0.4608844816684723, Adversarial Loss: 0.19483396410942078\n",
      "Epoch 10/10\n",
      "Loss: 0.6479285955429077, Adversarial Loss: 0.21058113873004913\n",
      "Evaluating on original test set:\n",
      "49/49 - 2s - 42ms/step - accuracy: 0.6679 - loss: 1.0481\n",
      "Original Test Loss: 1.0481, Test Accuracy: 0.6679\n",
      "Evaluating on adversarial test set:\n",
      "49/49 - 1s - 20ms/step - accuracy: 0.7818 - loss: 0.6991\n",
      "Adversarial Test Loss: 0.6991, Adversarial Test Accuracy: 0.7818\n"
     ]
    }
   ],
   "source": [
    "import numpy as np\n",
    "import tensorflow as tf\n",
    "from sklearn.model_selection import train_test_split\n",
    "from tensorflow.keras import layers, models\n",
    "\n",
    "\n",
    "# 적대적 학습 함수\n",
    "def adversarial_training(model, X_train, y_train, perturbed_train, epochs=10, batch_size=32):\n",
    "    optimizer = tf.keras.optimizers.Adam()\n",
    "    loss_object = tf.keras.losses.SparseCategoricalCrossentropy()\n",
    "\n",
    "    for epoch in range(epochs):\n",
    "        print(f\"Epoch {epoch+1}/{epochs}\")\n",
    "        for i in range(0, len(X_train), batch_size):\n",
    "            images = X_train[i:i+batch_size]\n",
    "            labels = y_train[i:i+batch_size]\n",
    "            adv_images = perturbed_train[i:i+batch_size]  # 적대적 이미지\n",
    "\n",
    "            # 원본 이미지로 학습\n",
    "            with tf.GradientTape() as tape:\n",
    "                predictions = model(images)\n",
    "                loss = loss_object(labels, predictions)\n",
    "            gradients = tape.gradient(loss, model.trainable_variables)\n",
    "            optimizer.apply_gradients(zip(gradients, model.trainable_variables))\n",
    "\n",
    "            # 적대적 이미지로 학습\n",
    "            with tf.GradientTape() as tape:\n",
    "                predictions_adv = model(adv_images)\n",
    "                loss_adv = loss_object(labels, predictions_adv)\n",
    "            gradients_adv = tape.gradient(loss_adv, model.trainable_variables)\n",
    "            optimizer.apply_gradients(zip(gradients_adv, model.trainable_variables))\n",
    "\n",
    "        print(f\"Loss: {loss.numpy()}, Adversarial Loss: {loss_adv.numpy()}\")\n",
    "\n",
    "# 모델 평가 함수 정의\n",
    "def evaluate_model(model, X_test, y_test, perturbed_test):\n",
    "\n",
    "    # 적대적 테스트셋 평가\n",
    "    print(\"Evaluating on adversarial test set:\")\n",
    "    loss_adv, acc_adv = model.evaluate(perturbed_test, y_test, verbose=2)\n",
    "    print(f\"Adversarial Test Loss: {loss_adv:.4f}, Adversarial Test Accuracy: {acc_adv:.4f}\")\n",
    "\n",
    "# 전체 훈련 및 추론 흐름\n",
    "def main():\n",
    "\n",
    "    # 손상된 훈련셋과 테스트셋을 npy 파일에서 로드\n",
    "    perturbed_train = np.load('/content/drive/MyDrive/스마트해상물류_공유/ships-dataset/game/fgsm_perturbed_images/perturbed_train.npy')  # FGSM 공격으로 손상된 훈련셋\n",
    "    perturbed_test = np.load('/content/drive/MyDrive/스마트해상물류_공유/ships-dataset/game/fgsm_perturbed_images/perturbed_test.npy')    # FGSM 공격으로 손상된 테스트셋\n",
    "\n",
    "    # CNN 모델 생성 및 컴파일\n",
    "    model = create_cnn_model()\n",
    "    model.compile(optimizer='adam', loss='sparse_categorical_crossentropy', metrics=['accuracy'])\n",
    "\n",
    "    # 적대적 학습 수행 (원본 + 손상된 훈련 데이터셋 사용)\n",
    "    adversarial_training(model, X_train, y_train, perturbed_train, epochs=10, batch_size=32)\n",
    "\n",
    "    # 모델 평가 (원본 및 적대적 테스트셋)\n",
    "    evaluate_model(model, X_test, y_test, perturbed_test)\n",
    "\n",
    "# 실행\n",
    "if __name__ == \"__main__\":\n",
    "    main()\n"
   ]
  },
  {
   "cell_type": "code",
   "execution_count": null,
   "metadata": {
    "id": "eiAbGvn1Arl9"
   },
   "outputs": [],
   "source": []
  }
 ],
 "metadata": {
  "accelerator": "GPU",
  "colab": {
   "gpuType": "T4",
   "machine_shape": "hm",
   "provenance": []
  },
  "kernelspec": {
   "display_name": "Python 3",
   "name": "python3"
  },
  "language_info": {
   "name": "python"
  }
 },
 "nbformat": 4,
 "nbformat_minor": 0
}
